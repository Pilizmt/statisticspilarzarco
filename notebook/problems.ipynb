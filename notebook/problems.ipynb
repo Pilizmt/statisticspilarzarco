{
    "cells": [
        {
            "cell_type": "markdown",
            "id": "ac622319",
            "metadata": {},
            "source": [
                "# Descriptive statistics problems"
            ]
        },
        {
            "cell_type": "markdown",
            "id": "aa8993e4",
            "metadata": {},
            "source": [
                "### Exercise 1"
            ]
        },
        {
            "cell_type": "markdown",
            "id": "5e0ab0d5",
            "metadata": {},
            "source": [
                "We will use Numpy to obtain information to describe statistically.\n",
                "\n",
                "- Generate an array of 100 elements following a normal distribution.\n",
                "- Generate an array of 100 elements following a chi-square distribution with 3 degrees of freedom.\n",
                "- Calculate the main metrics and statistical measures that best describe the two vectors."
            ]
        },
        {
            "cell_type": "code",
            "execution_count": 9,
            "id": "34720ab6",
            "metadata": {},
            "outputs": [
                {
                    "name": "stdout",
                    "output_type": "stream",
                    "text": [
                        "Normal: , [-0.43060315 -1.19392809 -0.44429899  0.48941221 -0.45155715  0.58569596\n",
                        "  1.17731982 -0.96500906  0.21827791 -0.86614368 -0.32300553  1.41291915\n",
                        " -0.71265089 -1.36219111 -1.70596554  0.55736601 -0.0725305  -0.19068679\n",
                        "  1.16173418 -1.48207688 -0.16072311  0.2745041  -0.37373724  0.67348726\n",
                        " -0.67929727 -0.56867709 -0.0526409  -1.12964688  0.89176597  0.76686604\n",
                        "  1.11574769 -1.08832491  0.04242849  0.64137239  1.57320668 -1.95614258\n",
                        " -0.35374756  1.48448878  1.00976458  1.07404186  0.15995533  1.13130213\n",
                        "  0.07470006 -0.81752682  0.70890112 -1.45593992 -0.51749315 -0.4072342\n",
                        "  0.45611359 -0.048916   -0.8512705  -0.29860861  0.16331552  0.9407349\n",
                        "  0.39431076  0.90065567 -1.12954296 -0.52458719  0.76310068 -0.51545726\n",
                        "  0.04218719  0.17629909 -0.86400937  1.05177541 -0.26717161  1.21767546\n",
                        "  0.42942781 -0.68019883  0.58309095  0.5607185  -0.44207338  0.3905345\n",
                        "  0.29733205  0.37091117  0.23513417  1.55456005  1.07992163  0.81098923\n",
                        "  1.94297211  0.41580297  0.26475817 -0.4645778  -0.19129565  0.04124289\n",
                        "  0.6759818   1.16114214  0.26244664 -0.05533229 -0.58984527 -0.89710441\n",
                        "  1.18181732 -0.10899629 -0.39543674 -0.33769316  0.81589669  0.61408747\n",
                        "  1.2083248  -0.55969019  0.02929245 -1.68782503]\n",
                        "\n",
                        "Chi-Square: , [ 6.48824165  3.20803501  3.89287775  1.13623075  0.14456884  2.34584764\n",
                        "  1.8557169   2.71590194  0.12678053  1.15302043  1.73177933  7.46664506\n",
                        "  1.35842348  2.28458888  2.334043    2.54135405  6.31581553  2.47332686\n",
                        "  1.62109648  2.75169666  5.56773782  0.85159367  5.94928501  0.67875469\n",
                        "  0.82562969  2.20048418  6.83138853  1.23189964  5.98364513  1.60433735\n",
                        "  0.06172296  5.11045862  4.91175318  2.03028195  1.31591797  2.8607189\n",
                        "  1.42641256  3.2532219   1.41185934  0.36957352  0.60329517  0.79247355\n",
                        "  1.72199443  2.06707817  2.03100459  0.81484476  4.5794119   4.15269853\n",
                        "  8.92630462  0.98232261  0.82895712  2.79022625  1.30649402  3.32578046\n",
                        "  1.30859549 12.62294213  0.75935964  8.37558721 12.65817701  3.56772931\n",
                        "  4.13388194  6.06666413  0.44435111  6.36654327  2.01036484  5.32168994\n",
                        "  1.39001387  9.37804825  2.79252434  1.88682347  3.02780895  0.84212978\n",
                        "  4.11513504  0.72963856  0.69615815  0.8845294   4.72504162  1.98319368\n",
                        "  0.36338445 11.9729224   6.90022704  7.34011761  0.64967827  5.08947518\n",
                        "  5.03284885  1.41822878  1.65501877  1.89168092  3.56583967  1.82834576\n",
                        "  6.05416127  6.58270636  3.15596812  3.23642837  1.79542005  2.97522544\n",
                        "  2.92297193  1.64434296  1.3977949   0.57312249]\n"
                    ]
                }
            ],
            "source": [
                "import numpy as np\n",
                "import statistics as stats\n",
                "import pandas as pd\n",
                "\n",
                "# Generate an array of 100 elements following a normal distribution\n",
                "np.random.seed(71)\n",
                "matrix = np.random.normal(size = 100)\n",
                "\n",
                "# Generate an array of 100 elements following a chi-square distribution with 3 degrees of freedom\n",
                "chi_2 = np.random.chisquare(3, 100)\n",
                "\n",
                "\n",
                "print(f\"Normal: , {matrix}\")\n",
                "print(f\"\\nChi-Square: , {chi_2}\")\n",
                "\n"
            ]
        },
        {
            "cell_type": "code",
            "execution_count": 10,
            "id": "b5ddab59",
            "metadata": {},
            "outputs": [
                {
                    "name": "stdout",
                    "output_type": "stream",
                    "text": [
                        "\n",
                        "Normal mean: 0.07586399965257862\n",
                        "Chi-Square mean: 3.1747839426656186\n",
                        "\n",
                        "Normal median: 0.05856427268477514\n",
                        "Chi-Square median: 2.242536528896281\n",
                        "\n",
                        "Normal mode: -0.43060314972978897\n",
                        "Chi-Square mode: 6.488241647175449\n"
                    ]
                }
            ],
            "source": [
                "# Calculate the main metrics and statistical measures that best describe the two vectors\n",
                "\n",
                "# Mean\n",
                "mean_normal = stats.mean(matrix)\n",
                "mean_chi = stats.mean(chi_2)\n",
                "print(f\"\\nNormal mean: {mean_normal}\")\n",
                "print(f\"Chi-Square mean: {mean_chi}\")\n",
                "\n",
                "# Median\n",
                "median_normal = stats.median(matrix)\n",
                "median_chi = stats.median(chi_2)\n",
                "print(f\"\\nNormal median: {median_normal}\")\n",
                "print(f\"Chi-Square median: {median_chi}\")\n",
                "\n",
                "# Mode\n",
                "mode_normal = stats.mode(matrix)\n",
                "mode_chi = stats.mode(chi_2)\n",
                "print(f\"\\nNormal mode: {mode_normal}\")\n",
                "print(f\"Chi-Square mode: {mode_chi}\")"
            ]
        },
        {
            "cell_type": "code",
            "execution_count": 11,
            "id": "7ba976c0",
            "metadata": {},
            "outputs": [
                {
                    "name": "stdout",
                    "output_type": "stream",
                    "text": [
                        "\n",
                        "Normal Range: -0.43060314972978897\n",
                        "Chi-Square Range: 6.488241647175449\n",
                        "\n",
                        "Normal Variance an Deviation: -0.43060314972978897\n",
                        "Chi-Square Variance an Deviation: 6.488241647175449\n",
                        "\n",
                        "Normal Skewness: -0.43060314972978897\n",
                        "Chi-Square Skewness: 6.488241647175449\n",
                        "\n",
                        "Normal Kurtosis: -0.43060314972978897\n",
                        "Chi-Square Kurtosis: 6.488241647175449\n"
                    ]
                }
            ],
            "source": [
                "# Range\n",
                "range_normal = stats.mode(matrix)\n",
                "range_chi = stats.mode(chi_2)\n",
                "print(f\"\\nNormal Range: {range_normal}\")\n",
                "print(f\"Chi-Square Range: {range_chi}\")\n",
                "\n",
                "# Variance and standard deviation\n",
                "var_dev_normal = stats.mode(matrix)\n",
                "var_dev_chi = stats.mode(chi_2)\n",
                "print(f\"\\nNormal Variance an Deviation: {var_dev_normal}\")\n",
                "print(f\"Chi-Square Variance an Deviation: {var_dev_chi}\")\n",
                "\n",
                "# Skewness\n",
                "skew_normal = stats.mode(matrix)\n",
                "skew_chi = stats.mode(chi_2)\n",
                "print(f\"\\nNormal Skewness: {skew_normal}\")\n",
                "print(f\"Chi-Square Skewness: {skew_chi}\")\n",
                "\n",
                "# Kurtosis\n",
                "kurt_normal = stats.mode(matrix)\n",
                "kurt_chi = stats.mode(chi_2)\n",
                "print(f\"\\nNormal Kurtosis: {kurt_normal}\")\n",
                "print(f\"Chi-Square Kurtosis: {kurt_chi}\")\n",
                "\n",
                "\n"
            ]
        },
        {
            "cell_type": "markdown",
            "id": "46c70c3d",
            "metadata": {},
            "source": [
                "### Exercise 2\n",
                "\n",
                "Write a Python program to calculate the standard deviation of the following data:\n",
                "\n",
                "```py\n",
                "data = [4, 2, 5, 8, 6]\n",
                "```"
            ]
        },
        {
            "cell_type": "code",
            "execution_count": 12,
            "id": "d590308e",
            "metadata": {},
            "outputs": [
                {
                    "name": "stdout",
                    "output_type": "stream",
                    "text": [
                        "Sample Data: [4, 2, 5, 8, 6]\n",
                        "Standard deviation: 2.23606797749979\n"
                    ]
                }
            ],
            "source": [
                "import math\n",
                "\n",
                "# Calculate standard deviation\n",
                "data = [4, 2, 5, 8, 6]\n",
                "\n",
                "\n",
                "#Paso 1: calcular la media.\n",
                "mean = sum(data) / len(data)\n",
                "\n",
                "#Paso 2: calcular el cuadrado de la distancia a la media para cada dato.\n",
                "squared_diff = [(x - mean)**2 for x in data]\n",
                "\n",
                "#Paso 3: sumar los valores que resultaron del paso 2.\n",
                "sum_squared_diff = sum(squared_diff)\n",
                "\n",
                "#Paso 4: dividir entre el número de datos.\n",
                "std_devisation = (sum_squared_diff / (len(data) - 1)) ** 0.5\n",
                "\n",
                "deviation = stats.stdev(data)\n",
                "print(f\"Sample Data: {data}\")\n",
                "print(f\"Standard deviation: {deviation}\")"
            ]
        }
    ],
    "metadata": {
        "interpreter": {
            "hash": "9248718ffe6ce6938b217e69dbcc175ea21f4c6b28a317e96c05334edae734bb"
        },
        "kernelspec": {
            "display_name": "Python 3.9.12 ('ML-BOOTCAMP')",
            "language": "python",
            "name": "python3"
        },
        "language_info": {
            "codemirror_mode": {
                "name": "ipython",
                "version": 3
            },
            "file_extension": ".py",
            "mimetype": "text/x-python",
            "name": "python",
            "nbconvert_exporter": "python",
            "pygments_lexer": "ipython3",
            "version": "3.11.4"
        }
    },
    "nbformat": 4,
    "nbformat_minor": 5
}
